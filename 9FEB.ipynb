{
 "cells": [
  {
   "cell_type": "markdown",
   "id": "aa057991-6a71-42b9-b167-56c65b8f2894",
   "metadata": {},
   "source": [
    "ASSIGNMENT: 9"
   ]
  },
  {
   "cell_type": "code",
   "execution_count": 1,
   "id": "a4d9cf66-2173-411d-b860-714a985f804b",
   "metadata": {},
   "outputs": [],
   "source": [
    "class Vehicle:\n",
    "    def __init__(self, name_of_vehicle, max_speed, average_of_vehicle):\n",
    "        self.name_of_vehicle = name_of_vehicle\n",
    "        self.max_speed = max_speed\n",
    "        self.average_of_vehicle = average_of_vehicle\n"
   ]
  },
  {
   "cell_type": "code",
   "execution_count": 2,
   "id": "fac9e0f5-08d5-49de-9e79-30f2dc20a2e9",
   "metadata": {},
   "outputs": [
    {
     "name": "stdout",
     "output_type": "stream",
     "text": [
      "The Honda Civic has a seating capacity of 5 passengers.\n"
     ]
    }
   ],
   "source": [
    "class Car(Vehicle):\n",
    "    def seating_capacity(self, capacity):\n",
    "        return f\"The {self.name_of_vehicle} has a seating capacity of {capacity} passengers.\"\n",
    "car = Car(\"Honda Civic\", 200, 30)\n",
    "print(car.seating_capacity(5))\n"
   ]
  },
  {
   "cell_type": "markdown",
   "id": "8ad5d7c3-a4b3-40d5-81a8-bc6419178fdb",
   "metadata": {},
   "source": [
    "What is multiple inheritance? Write a python code to demonstrate multiple inheritance."
   ]
  },
  {
   "cell_type": "markdown",
   "id": "b6bc0c17-b789-47dc-a70c-947c34a196f7",
   "metadata": {},
   "source": [
    "Multiple inheritance is a feature in object-oriented programming languages that allows a class to inherit from more than one parent class. This allows the child class to have the attributes and methods of both parent classes.\n",
    "\n",
    "Here's an example code that demonstrates multiple inheritance in Python:"
   ]
  },
  {
   "cell_type": "code",
   "execution_count": 3,
   "id": "a27805e0-3762-4700-85f6-aafb69fae79c",
   "metadata": {},
   "outputs": [
    {
     "name": "stdout",
     "output_type": "stream",
     "text": [
      "This is from class A\n",
      "This is from class B\n",
      "This is from class C\n"
     ]
    }
   ],
   "source": [
    "class A:\n",
    "    def methodA(self):\n",
    "        print(\"This is from class A\")\n",
    "\n",
    "class B:\n",
    "    def methodB(self):\n",
    "        print(\"This is from class B\")\n",
    "\n",
    "class C(A, B):\n",
    "    def methodC(self):\n",
    "        print(\"This is from class C\")\n",
    "\n",
    "obj = C()\n",
    "obj.methodA()\n",
    "obj.methodB()\n",
    "obj.methodC()\n"
   ]
  },
  {
   "cell_type": "markdown",
   "id": "2a44e244-e88b-497a-abbe-6433fddc559e",
   "metadata": {},
   "source": [
    "What are getter and setter in python? Create a class and create a getter and a setter method in this \n",
    "class"
   ]
  },
  {
   "cell_type": "markdown",
   "id": "2c4c2755-c6f2-44b3-a053-4842f381b238",
   "metadata": {},
   "source": [
    "In Python, getters and setters are methods used to retrieve and set the values of instance variables in a class, respectively. They provide a level of encapsulation and control over how instance variables can be accessed and modified.\n",
    "\n",
    "Here's an example code that demonstrates how to create a class with getter and setter methods in Python:"
   ]
  },
  {
   "cell_type": "code",
   "execution_count": 4,
   "id": "5e24c889-64fb-4f50-a0cf-d0872e12b8e9",
   "metadata": {},
   "outputs": [
    {
     "name": "stdout",
     "output_type": "stream",
     "text": [
      "10\n",
      "5\n",
      "20\n",
      "10\n"
     ]
    }
   ],
   "source": [
    "class Rectangle:\n",
    "    def __init__(self, length, width):\n",
    "        self._length = length\n",
    "        self._width = width\n",
    "    \n",
    "    def get_length(self):\n",
    "        return self._length\n",
    "    \n",
    "    def set_length(self, length):\n",
    "        self._length = length\n",
    "    \n",
    "    def get_width(self):\n",
    "        return self._width\n",
    "    \n",
    "    def set_width(self, width):\n",
    "        self._width = width\n",
    "rect = Rectangle(10, 5)\n",
    "\n",
    "print(rect.get_length()) \n",
    "print(rect.get_width()) \n",
    "\n",
    "rect.set_length(20)\n",
    "rect.set_width(10)\n",
    "\n",
    "print(rect.get_length()) \n",
    "print(rect.get_width()) \n"
   ]
  },
  {
   "cell_type": "markdown",
   "id": "d7240440-a556-4461-9219-06cbbf75bec2",
   "metadata": {},
   "source": [
    "What is method overriding in python? Write a python code to demonstrate method overriding."
   ]
  },
  {
   "cell_type": "markdown",
   "id": "10847275-899f-40c0-91f0-03c993a666d5",
   "metadata": {},
   "source": [
    "Method overriding is a concept in object-oriented programming where a subclass provides its own implementation of a method that is already defined in its superclass.\n",
    "\n",
    "In Python, method overriding is achieved by defining a method in the subclass with the same name as the method in the superclass. When the method is called on an object of the subclass, the implementation in the subclass is executed instead of the implementation in the superclass."
   ]
  },
  {
   "cell_type": "code",
   "execution_count": 5,
   "id": "636c817a-d012-4694-b14f-bfd57fd605eb",
   "metadata": {},
   "outputs": [
    {
     "name": "stdout",
     "output_type": "stream",
     "text": [
      "Area of rectangle: 50\n",
      "Area of circle: 153.86\n"
     ]
    }
   ],
   "source": [
    "class Shape:\n",
    "    def area(self):\n",
    "        print(\"Area of shape is undefined.\")\n",
    "\n",
    "class Rectangle(Shape):\n",
    "    def __init__(self, length, width):\n",
    "        self.length = length\n",
    "        self.width = width\n",
    "\n",
    "    def area(self):\n",
    "        return self.length * self.width\n",
    "\n",
    "class Circle(Shape):\n",
    "    def __init__(self, radius):\n",
    "        self.radius = radius\n",
    "\n",
    "    def area(self):\n",
    "        return 3.14 * self.radius * self.radius\n",
    "\n",
    "rectangle = Rectangle(5, 10)\n",
    "circle = Circle(7)\n",
    "\n",
    "rectangle_area = rectangle.area()\n",
    "print(\"Area of rectangle:\", rectangle_area) # Output: Area of rectangle: 50\n",
    "\n",
    "circle_area = circle.area()\n",
    "print(\"Area of circle:\", circle_area) # Output: Area of circle: 153.86\n"
   ]
  },
  {
   "cell_type": "code",
   "execution_count": null,
   "id": "90b4a63a-d7fc-43be-8355-96edad385a33",
   "metadata": {},
   "outputs": [],
   "source": []
  }
 ],
 "metadata": {
  "kernelspec": {
   "display_name": "Python 3 (ipykernel)",
   "language": "python",
   "name": "python3"
  },
  "language_info": {
   "codemirror_mode": {
    "name": "ipython",
    "version": 3
   },
   "file_extension": ".py",
   "mimetype": "text/x-python",
   "name": "python",
   "nbconvert_exporter": "python",
   "pygments_lexer": "ipython3",
   "version": "3.10.8"
  }
 },
 "nbformat": 4,
 "nbformat_minor": 5
}
